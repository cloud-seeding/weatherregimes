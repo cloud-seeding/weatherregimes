{
 "cells": [
  {
   "cell_type": "code",
   "execution_count": 1,
   "metadata": {},
   "outputs": [],
   "source": [
    "import requests\n",
    "import pandas as pd\n",
    "import geopandas as gpd\n",
    "from datetime import datetime, timedelta"
   ]
  },
  {
   "cell_type": "code",
   "execution_count": 2,
   "metadata": {},
   "outputs": [],
   "source": [
    "main = gpd.read_file('./full_globfire/full_globfire.shp')\n",
    "\n",
    "# Drop bottom 20% area fires\n",
    "bottom = main['area_ha'].quantile(0.2)\n",
    "main = main[main['area_ha'] > bottom]\n",
    "\n",
    "# Add bounding boxes for scrape\n",
    "main = pd.concat([main, main.bounds], axis=1)"
   ]
  },
  {
   "cell_type": "markdown",
   "metadata": {},
   "source": [
    "## Vertical Profiles Available\n"
   ]
  },
  {
   "cell_type": "code",
   "execution_count": null,
   "metadata": {},
   "outputs": [],
   "source": [
    "profiles_of_interest = [\n",
    "    'air',  # Air Temperature\n",
    "    'hgt',  # Geo-potential Height\n",
    "    'omega',  # Vertical Velocity in Pressure Coordinates\n",
    "    'shum',  # Specific Humidity\n",
    "    'tke',  # Turbulent Kinetic Energy\n",
    "    'uwnd',  # U-component of wind\n",
    "    'vwnd'  # V-component of wind\n",
    "]"
   ]
  },
  {
   "cell_type": "code",
   "execution_count": null,
   "metadata": {},
   "outputs": [],
   "source": [
    "\n",
    "for row in main.iterrows():\n",
    "    start = datetime(row['initialdate']) - timedelta(days=2)\n",
    "    yearmonth = start.strftime(\"%Y%m\")\n",
    "    start = start.strftime(\"%Y-%m-%dT%H:%M:%S\")\n",
    "    end = datetime(row['initialdate']).strftime(\"%Y-%m-%dT%H:%M:%S\")\n",
    "    N, W, E, S = row['ymax'], row['xmin'], row['xmax'], row['ymin']\n",
    "\n",
    "    # Need to convert to Netcdfsubset lat-lon system. involves subtracting longitude by 180 if its > 360?? idk something like this..\n",
    "\n",
    "    requests.get(\n",
    "        f\"https://psl.noaa.gov/thredds/ncss/grid/Datasets/NARR/pressure/air.{yearmonth}.nc?north={N}&west={W}&east={E}&south={S}&horizStride=1&time_start={start}Z&time_end={end}Z&&&accept=netcdf4-classic\")"
   ]
  }
 ],
 "metadata": {
  "kernelspec": {
   "display_name": "Python 3",
   "language": "python",
   "name": "python3"
  },
  "language_info": {
   "codemirror_mode": {
    "name": "ipython",
    "version": 3
   },
   "file_extension": ".py",
   "mimetype": "text/x-python",
   "name": "python",
   "nbconvert_exporter": "python",
   "pygments_lexer": "ipython3",
   "version": "3.11.5"
  }
 },
 "nbformat": 4,
 "nbformat_minor": 2
}
