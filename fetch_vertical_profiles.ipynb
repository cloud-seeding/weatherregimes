{
 "cells": [
  {
   "cell_type": "code",
   "execution_count": 1,
   "metadata": {},
   "outputs": [],
   "source": [
    "import requests\n",
    "import pandas as pd\n",
    "import geopandas as gpd\n",
    "from datetime import datetime, timedelta"
   ]
  },
  {
   "cell_type": "code",
   "execution_count": 2,
   "metadata": {},
   "outputs": [],
   "source": [
    "main = gpd.read_file('./full_globfire/full_globfire.shp')\n",
    "\n",
    "# Drop bottom 20% area fires\n",
    "bottom = main['area_ha'].quantile(0.2)\n",
    "main = main[main['area_ha'] > bottom]\n",
    "\n",
    "# Add bounding boxes for scrape\n",
    "main = pd.concat([main, main.bounds], axis=1)"
   ]
  },
  {
   "cell_type": "code",
   "execution_count": 3,
   "metadata": {},
   "outputs": [
    {
     "data": {
      "text/html": [
       "<div>\n",
       "<style scoped>\n",
       "    .dataframe tbody tr th:only-of-type {\n",
       "        vertical-align: middle;\n",
       "    }\n",
       "\n",
       "    .dataframe tbody tr th {\n",
       "        vertical-align: top;\n",
       "    }\n",
       "\n",
       "    .dataframe thead th {\n",
       "        text-align: right;\n",
       "    }\n",
       "</style>\n",
       "<table border=\"1\" class=\"dataframe\">\n",
       "  <thead>\n",
       "    <tr style=\"text-align: right;\">\n",
       "      <th></th>\n",
       "      <th>_uid_</th>\n",
       "      <th>id</th>\n",
       "      <th>initialdat</th>\n",
       "      <th>finaldate</th>\n",
       "      <th>area_ha</th>\n",
       "      <th>geometry</th>\n",
       "      <th>minx</th>\n",
       "      <th>miny</th>\n",
       "      <th>maxx</th>\n",
       "      <th>maxy</th>\n",
       "    </tr>\n",
       "  </thead>\n",
       "  <tbody>\n",
       "    <tr>\n",
       "      <th>1</th>\n",
       "      <td>17.0</td>\n",
       "      <td>966856.0</td>\n",
       "      <td>2002-01-10</td>\n",
       "      <td>2002-01-10</td>\n",
       "      <td>279.078281</td>\n",
       "      <td>MULTIPOLYGON (((-119.73174 35.63750, -119.7214...</td>\n",
       "      <td>-119.731744</td>\n",
       "      <td>35.616667</td>\n",
       "      <td>-119.696533</td>\n",
       "      <td>35.641667</td>\n",
       "    </tr>\n",
       "    <tr>\n",
       "      <th>2</th>\n",
       "      <td>18.0</td>\n",
       "      <td>966858.0</td>\n",
       "      <td>2002-01-11</td>\n",
       "      <td>2002-01-14</td>\n",
       "      <td>364.862618</td>\n",
       "      <td>MULTIPOLYGON (((-119.48016 34.59167, -119.4852...</td>\n",
       "      <td>-119.504140</td>\n",
       "      <td>34.591667</td>\n",
       "      <td>-119.459916</td>\n",
       "      <td>34.608333</td>\n",
       "    </tr>\n",
       "    <tr>\n",
       "      <th>3</th>\n",
       "      <td>19.0</td>\n",
       "      <td>966859.0</td>\n",
       "      <td>2002-01-08</td>\n",
       "      <td>2002-01-15</td>\n",
       "      <td>171.639568</td>\n",
       "      <td>POLYGON ((-113.32725 32.97917, -113.32228 32.9...</td>\n",
       "      <td>-113.327632</td>\n",
       "      <td>32.975000</td>\n",
       "      <td>-113.302037</td>\n",
       "      <td>32.983333</td>\n",
       "    </tr>\n",
       "    <tr>\n",
       "      <th>4</th>\n",
       "      <td>45798.0</td>\n",
       "      <td>966857.0</td>\n",
       "      <td>2002-01-17</td>\n",
       "      <td>2002-01-17</td>\n",
       "      <td>193.206072</td>\n",
       "      <td>MULTIPOLYGON (((-119.72149 35.63750, -119.7112...</td>\n",
       "      <td>-119.730628</td>\n",
       "      <td>35.616667</td>\n",
       "      <td>-119.704996</td>\n",
       "      <td>35.641667</td>\n",
       "    </tr>\n",
       "    <tr>\n",
       "      <th>5</th>\n",
       "      <td>78962.0</td>\n",
       "      <td>1053315.0</td>\n",
       "      <td>2002-02-06</td>\n",
       "      <td>2002-02-10</td>\n",
       "      <td>214.857839</td>\n",
       "      <td>MULTIPOLYGON (((-121.77411 39.42083, -121.7633...</td>\n",
       "      <td>-121.774111</td>\n",
       "      <td>39.416667</td>\n",
       "      <td>-121.736355</td>\n",
       "      <td>39.433333</td>\n",
       "    </tr>\n",
       "  </tbody>\n",
       "</table>\n",
       "</div>"
      ],
      "text/plain": [
       "     _uid_         id  initialdat   finaldate     area_ha  \\\n",
       "1     17.0   966856.0  2002-01-10  2002-01-10  279.078281   \n",
       "2     18.0   966858.0  2002-01-11  2002-01-14  364.862618   \n",
       "3     19.0   966859.0  2002-01-08  2002-01-15  171.639568   \n",
       "4  45798.0   966857.0  2002-01-17  2002-01-17  193.206072   \n",
       "5  78962.0  1053315.0  2002-02-06  2002-02-10  214.857839   \n",
       "\n",
       "                                            geometry        minx       miny  \\\n",
       "1  MULTIPOLYGON (((-119.73174 35.63750, -119.7214... -119.731744  35.616667   \n",
       "2  MULTIPOLYGON (((-119.48016 34.59167, -119.4852... -119.504140  34.591667   \n",
       "3  POLYGON ((-113.32725 32.97917, -113.32228 32.9... -113.327632  32.975000   \n",
       "4  MULTIPOLYGON (((-119.72149 35.63750, -119.7112... -119.730628  35.616667   \n",
       "5  MULTIPOLYGON (((-121.77411 39.42083, -121.7633... -121.774111  39.416667   \n",
       "\n",
       "         maxx       maxy  \n",
       "1 -119.696533  35.641667  \n",
       "2 -119.459916  34.608333  \n",
       "3 -113.302037  32.983333  \n",
       "4 -119.704996  35.641667  \n",
       "5 -121.736355  39.433333  "
      ]
     },
     "execution_count": 3,
     "metadata": {},
     "output_type": "execute_result"
    }
   ],
   "source": [
    "main.head()"
   ]
  },
  {
   "cell_type": "markdown",
   "metadata": {},
   "source": [
    "## Vertical Profiles Available\n"
   ]
  },
  {
   "cell_type": "code",
   "execution_count": 4,
   "metadata": {},
   "outputs": [],
   "source": [
    "profiles_of_interest = [\n",
    "    'air',  # Air Temperature\n",
    "    'hgt',  # Geo-potential Height\n",
    "    'omega',  # Vertical Velocity in Pressure Coordinates\n",
    "    'shum',  # Specific Humidity\n",
    "    'tke',  # Turbulent Kinetic Energy\n",
    "    'uwnd',  # U-component of wind\n",
    "    'vwnd'  # V-component of wind\n",
    "]"
   ]
  },
  {
   "cell_type": "code",
   "execution_count": 5,
   "metadata": {},
   "outputs": [],
   "source": [
    "import os\n",
    "\n",
    "for profile in profiles_of_interest:\n",
    "    os.makedirs(f'./assets/{profile}', exist_ok=True)"
   ]
  },
  {
   "cell_type": "code",
   "execution_count": 6,
   "metadata": {},
   "outputs": [],
   "source": [
    "URL = \"https://psl.noaa.gov/thredds/ncss/grid/Datasets/NARR/pressure/{profile}.{yearmonth}.nc?north={N}&west={W}&east={E}&south={S}&horizStride=1&time_start={start}Z&time_end={end}Z&&&accept=netcdf4-classic\""
   ]
  },
  {
   "cell_type": "code",
   "execution_count": null,
   "metadata": {},
   "outputs": [],
   "source": []
  }
 ],
 "metadata": {
  "kernelspec": {
   "display_name": "Python 3",
   "language": "python",
   "name": "python3"
  },
  "language_info": {
   "codemirror_mode": {
    "name": "ipython",
    "version": 3
   },
   "file_extension": ".py",
   "mimetype": "text/x-python",
   "name": "python",
   "nbconvert_exporter": "python",
   "pygments_lexer": "ipython3",
   "version": "3.11.5"
  }
 },
 "nbformat": 4,
 "nbformat_minor": 2
}
