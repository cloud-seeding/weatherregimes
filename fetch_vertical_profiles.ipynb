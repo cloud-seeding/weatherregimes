{
 "cells": [
  {
   "cell_type": "code",
   "execution_count": 1,
   "metadata": {},
   "outputs": [],
   "source": [
    "import requests\n",
    "import pandas as pd\n",
    "import geopandas as gpd\n",
    "from datetime import datetime, timedelta"
   ]
  },
  {
   "cell_type": "code",
   "execution_count": 2,
   "metadata": {},
   "outputs": [],
   "source": [
    "main = gpd.read_file('./full_globfire/full_globfire.shp')\n",
    "\n",
    "# Drop bottom 20% area fires\n",
    "bottom = main['area_ha'].quantile(0.2)\n",
    "main = main[main['area_ha'] > bottom]\n",
    "\n",
    "# Add bounding boxes for scrape\n",
    "main = pd.concat([main, main.bounds], axis=1)"
   ]
  },
  {
   "cell_type": "code",
   "execution_count": null,
   "metadata": {},
   "outputs": [],
   "source": [
    "main.head()"
   ]
  },
  {
   "cell_type": "markdown",
   "metadata": {},
   "source": [
    "## Vertical Profiles Available\n"
   ]
  },
  {
   "cell_type": "code",
   "execution_count": 4,
   "metadata": {},
   "outputs": [],
   "source": [
    "profiles_of_interest = [\n",
    "    'air',  # Air Temperature\n",
    "    'hgt',  # Geo-potential Height\n",
    "    'omega',  # Vertical Velocity in Pressure Coordinates\n",
    "    'shum',  # Specific Humidity\n",
    "    'tke',  # Turbulent Kinetic Energy\n",
    "    'uwnd',  # U-component of wind\n",
    "    'vwnd'  # V-component of wind\n",
    "]"
   ]
  },
  {
   "cell_type": "code",
   "execution_count": 5,
   "metadata": {},
   "outputs": [],
   "source": [
    "import os\n",
    "\n",
    "for profile in profiles_of_interest:\n",
    "    os.makedirs(f'./assets/{profile}', exist_ok=True)"
   ]
  },
  {
   "cell_type": "code",
   "execution_count": 6,
   "metadata": {},
   "outputs": [],
   "source": [
    "def get_relevant_months(event_date):\n",
    "    year_months = []\n",
    "\n",
    "    if not isinstance(event_date, datetime):\n",
    "        event_date = datetime.strptime(\n",
    "            event_date, \"%Y-%m-%d\")\n",
    "\n",
    "    # Add the actual month of the fire\n",
    "    year_months.append(event_date.strftime(\"%Y%m\"))\n",
    "\n",
    "    # Check for start of month (if the event is on the 1st or 2nd)\n",
    "    if event_date.day <= 2:\n",
    "        previous_month = (event_date.replace(day=1) -\n",
    "                          timedelta(days=1)).strftime(\"%Y%m\")\n",
    "        year_months.append(previous_month)\n",
    "\n",
    "    # Check for end of month (if the event is on the last or second-to-last day)\n",
    "    next_month = event_date.replace(day=28) + timedelta(days=4)\n",
    "    last_day = next_month - timedelta(days=next_month.day)\n",
    "    if event_date.date() >= last_day.date() - timedelta(days=1):\n",
    "        next_month = (event_date.replace(day=1) +\n",
    "                      timedelta(days=32)).replace(day=1).strftime(\"%Y%m\")\n",
    "        year_months.append(next_month)\n",
    "\n",
    "    return year_months"
   ]
  },
  {
   "cell_type": "code",
   "execution_count": 7,
   "metadata": {},
   "outputs": [],
   "source": [
    "BASE_URL = \"https://psl.noaa.gov/thredds/fileServer/Datasets/NARR/pressure/{}.{}.nc\""
   ]
  },
  {
   "cell_type": "code",
   "execution_count": 8,
   "metadata": {},
   "outputs": [],
   "source": [
    "def download_file(url, save_path):\n",
    "    response = requests.get(url, stream=True)\n",
    "    response.raise_for_status()\n",
    "\n",
    "    with open(save_path, 'wb') as file:\n",
    "        for chunk in response.iter_content(chunk_size=8192):\n",
    "            file.write(chunk)"
   ]
  },
  {
   "cell_type": "code",
   "execution_count": null,
   "metadata": {},
   "outputs": [],
   "source": [
    "for _, row in main.iterrows():\n",
    "    year_months = get_relevant_months(row['initialdat'])\n",
    "\n",
    "    for month in year_months:\n",
    "        for profile in profiles_of_interest:\n",
    "            url = BASE_URL.format(profile, month)\n",
    "            save_path = os.path.join(\n",
    "                'assets', profile, f\"{profile}.{month}.nc\")\n",
    "\n",
    "            try:\n",
    "                download_file(url, save_path)\n",
    "                print(f\"Successfully downloaded {profile} data for {month}\")\n",
    "            except requests.RequestException as e:\n",
    "                print(f\"Error downloading {profile} data for {month}: {e}\")\n",
    "                break"
   ]
  },
  {
   "cell_type": "code",
   "execution_count": null,
   "metadata": {},
   "outputs": [],
   "source": []
  }
 ],
 "metadata": {
  "kernelspec": {
   "display_name": "Python 3",
   "language": "python",
   "name": "python3"
  },
  "language_info": {
   "codemirror_mode": {
    "name": "ipython",
    "version": 3
   },
   "file_extension": ".py",
   "mimetype": "text/x-python",
   "name": "python",
   "nbconvert_exporter": "python",
   "pygments_lexer": "ipython3",
   "version": "3.11.5"
  }
 },
 "nbformat": 4,
 "nbformat_minor": 2
}
